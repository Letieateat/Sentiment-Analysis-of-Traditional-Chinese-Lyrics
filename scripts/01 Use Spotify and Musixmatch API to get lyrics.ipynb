{
  "nbformat": 4,
  "nbformat_minor": 0,
  "metadata": {
    "colab": {
      "provenance": [],
      "gpuType": "T4"
    },
    "kernelspec": {
      "name": "python3",
      "display_name": "Python 3"
    },
    "language_info": {
      "name": "python"
    },
    "accelerator": "GPU"
  },
  "cells": [
    {
      "cell_type": "code",
      "source": [
        "!pip install spotipy\n",
        "!pip install pymusixmatch"
      ],
      "metadata": {
        "colab": {
          "base_uri": "https://localhost:8080/"
        },
        "id": "Q1YEEfFmI4F0",
        "outputId": "baa59d5d-42a3-44a5-a2cf-6a0378882578"
      },
      "execution_count": null,
      "outputs": [
        {
          "output_type": "stream",
          "name": "stdout",
          "text": [
            "Collecting spotipy\n",
            "  Downloading spotipy-2.23.0-py3-none-any.whl (29 kB)\n",
            "Collecting redis>=3.5.3 (from spotipy)\n",
            "  Downloading redis-5.0.3-py3-none-any.whl (251 kB)\n",
            "\u001b[2K     \u001b[90m━━━━━━━━━━━━━━━━━━━━━━━━━━━━━━━━━━━━━━━━\u001b[0m \u001b[32m251.8/251.8 kB\u001b[0m \u001b[31m7.4 MB/s\u001b[0m eta \u001b[36m0:00:00\u001b[0m\n",
            "\u001b[?25hRequirement already satisfied: requests>=2.25.0 in /usr/local/lib/python3.10/dist-packages (from spotipy) (2.31.0)\n",
            "Requirement already satisfied: six>=1.15.0 in /usr/local/lib/python3.10/dist-packages (from spotipy) (1.16.0)\n",
            "Requirement already satisfied: urllib3>=1.26.0 in /usr/local/lib/python3.10/dist-packages (from spotipy) (2.0.7)\n",
            "Requirement already satisfied: async-timeout>=4.0.3 in /usr/local/lib/python3.10/dist-packages (from redis>=3.5.3->spotipy) (4.0.3)\n",
            "Requirement already satisfied: charset-normalizer<4,>=2 in /usr/local/lib/python3.10/dist-packages (from requests>=2.25.0->spotipy) (3.3.2)\n",
            "Requirement already satisfied: idna<4,>=2.5 in /usr/local/lib/python3.10/dist-packages (from requests>=2.25.0->spotipy) (3.6)\n",
            "Requirement already satisfied: certifi>=2017.4.17 in /usr/local/lib/python3.10/dist-packages (from requests>=2.25.0->spotipy) (2024.2.2)\n",
            "Installing collected packages: redis, spotipy\n",
            "Successfully installed redis-5.0.3 spotipy-2.23.0\n",
            "Collecting pymusixmatch\n",
            "  Downloading pymusixmatch-0.3.tar.gz (7.2 kB)\n",
            "  Preparing metadata (setup.py) ... \u001b[?25l\u001b[?25hdone\n",
            "Requirement already satisfied: requests in /usr/local/lib/python3.10/dist-packages (from pymusixmatch) (2.31.0)\n",
            "Requirement already satisfied: charset-normalizer<4,>=2 in /usr/local/lib/python3.10/dist-packages (from requests->pymusixmatch) (3.3.2)\n",
            "Requirement already satisfied: idna<4,>=2.5 in /usr/local/lib/python3.10/dist-packages (from requests->pymusixmatch) (3.6)\n",
            "Requirement already satisfied: urllib3<3,>=1.21.1 in /usr/local/lib/python3.10/dist-packages (from requests->pymusixmatch) (2.0.7)\n",
            "Requirement already satisfied: certifi>=2017.4.17 in /usr/local/lib/python3.10/dist-packages (from requests->pymusixmatch) (2024.2.2)\n",
            "Building wheels for collected packages: pymusixmatch\n",
            "  Building wheel for pymusixmatch (setup.py) ... \u001b[?25l\u001b[?25hdone\n",
            "  Created wheel for pymusixmatch: filename=pymusixmatch-0.3-py3-none-any.whl size=5853 sha256=3f4345b68da92c33db89ec6fbf861b6ce66d312e1bc531c2b836a970f4a16efd\n",
            "  Stored in directory: /root/.cache/pip/wheels/f6/4a/3d/363c797868dd139e1fcff2470ada9b005b1019ec2051be3fb9\n",
            "Successfully built pymusixmatch\n",
            "Installing collected packages: pymusixmatch\n",
            "Successfully installed pymusixmatch-0.3\n"
          ]
        }
      ]
    },
    {
      "cell_type": "code",
      "execution_count": null,
      "metadata": {
        "id": "n4AW7kAFwcTC"
      },
      "outputs": [],
      "source": [
        "import spotipy\n",
        "from spotipy.oauth2 import SpotifyClientCredentials\n",
        "import csv\n",
        "import requests\n",
        "from musixmatch import Musixmatch\n",
        "import json"
      ]
    },
    {
      "cell_type": "code",
      "source": [
        "# Spotify Authentication\n",
        "client_credentials_manager = SpotifyClientCredentials(client_id='your client id', client_secret='your client secret')\n",
        "sp = spotipy.Spotify(client_credentials_manager=client_credentials_manager)"
      ],
      "metadata": {
        "id": "2TrvTkK8w5R_"
      },
      "execution_count": null,
      "outputs": []
    },
    {
      "cell_type": "code",
      "source": [
        "# define the get_lyrics_from_musixmatch function\n",
        "def get_lyrics_from_musixmatch(track_name, artist_name, musixmatch_api_key):\n",
        "    base_url = \"https://api.musixmatch.com/ws/1.1/\"\n",
        "    endpoint = \"matcher.lyrics.get\"\n",
        "    params = {\n",
        "        \"q_track\": track_name,\n",
        "        \"q_artist\": artist_name,\n",
        "        \"apikey\": musixmatch_api_key,\n",
        "        \"format\": \"json\"\n",
        "    }\n",
        "    response = requests.get(base_url + endpoint, params=params)\n",
        "    data = response.json()\n",
        "    # Check if the API response includes the necessary data\n",
        "    if data['message']['header']['status_code'] != 200 or 'lyrics' not in data['message']['body']:\n",
        "        return \"Lyrics not found\"\n",
        "    lyrics_data = data['message']['body'].get('lyrics')\n",
        "    if not lyrics_data:\n",
        "        return \"Lyrics not found\"\n",
        "    return lyrics_data.get('lyrics_body', \"Lyrics not found\")\n",
        "\n",
        "# Define the process_track function\n",
        "def process_track(writer, track_info, musixmatch_api_key):\n",
        "    track_name = track_info[\"name\"]\n",
        "    artist_name = track_info[\"artists\"][0][\"name\"]\n",
        "    artist_id = track_info[\"artists\"][0][\"id\"]\n",
        "    artist_info = sp.artist(artist_id)\n",
        "    artist_genres = artist_info.get('genres', [\"Genre not available\"])\n",
        "    track_popularity = track_info[\"popularity\"]\n",
        "    track_features = sp.audio_features(track_info[\"uri\"])[0]\n",
        "    lyrics = get_lyrics_from_musixmatch(track_name, artist_name, musixmatch_api_key)\n",
        "\n",
        "    # Construct the row with dynamic mood columns\n",
        "    row = [\n",
        "        track_name,\n",
        "        artist_name,\n",
        "        \", \".join(artist_genres),  # Join list of genres into a string\n",
        "        track_popularity,\n",
        "        track_features['acousticness'] if track_features else \"N/A\",\n",
        "        track_features['danceability'] if track_features else \"N/A\",\n",
        "        track_features['duration_ms'] if track_features else \"N/A\",\n",
        "        track_features['energy'] if track_features else \"N/A\",\n",
        "        track_features['instrumentalness'] if track_features else \"N/A\",\n",
        "        track_features['key'] if track_features else \"N/A\",\n",
        "        track_features['liveness'] if track_features else \"N/A\",\n",
        "        track_features['loudness'] if track_features else \"N/A\",\n",
        "        track_features['mode'] if track_features else \"N/A\",\n",
        "        track_features['speechiness'] if track_features else \"N/A\",\n",
        "        track_features['tempo'] if track_features else \"N/A\",\n",
        "        track_features['time_signature'] if track_features else \"N/A\",\n",
        "        track_features['valence'] if track_features else \"N/A\",\n",
        "        lyrics]\n",
        "    writer.writerow(row)\n",
        "# Header including mood and raw data\n",
        "header = ['Track Name', 'Artist Name', 'Artist Genre','Popularity', 'Acousticness', 'Danceability', 'Duration (ms)', 'Energy', 'Instrumentalness', 'Key', 'Liveness', 'Loudness', 'Mode', 'Speechiness', 'Tempo', 'Time Signature', 'Valence', 'Lyrics']"
      ],
      "metadata": {
        "id": "NKSUE5NKTR83"
      },
      "execution_count": null,
      "outputs": []
    },
    {
      "cell_type": "code",
      "source": [
        "# Full List of playlists and artists to consider\n",
        "playlist_links = [\"https://open.spotify.com/playlist/37i9dQZF1DWVNQeZtY2TDM?si=f0c2de0f24b542d7\",#Hit songs in recetn 10 years, 100 songs\n",
        "                  \"https://open.spotify.com/playlist/37i9dQZF1DWVUmQhB7PvFH?si=39b6335a680540dd\",#Hit songs in 2000s, 50 songs\n",
        "                  \"https://open.spotify.com/playlist/37i9dQZF1DWSBcxmKiZ0B8?si=599c102f2ab54ac4\",#Jay Chou's, 100 songs\n",
        "                  \"https://open.spotify.com/playlist/37i9dQZF1DXbS5FrVEi0Jy?si=7005d28e12b8404a\",#Stefanie Sun, 41 songs\n",
        "                  \"https://open.spotify.com/playlist/37i9dQZF1DX4sj7z7Or175?si=2a7e474f66a84c3d\",#S.H.E, 45 songs\n",
        "                  \"https://open.spotify.com/playlist/37i9dQZF1DWU2P2Iig3qNI?si=4b2feecce3024e5f\",#Cheer Chen, 41 songs\n",
        "                  \"https://open.spotify.com/playlist/37i9dQZF1DWWXlVI85jXLO?si=96e5c130f4d24809\",#Sodagreen, 41 songs\n",
        "                  \"https://open.spotify.com/playlist/37i9dQZF1DX6wL8zjJzqlv?si=350c6b7e50ed491b\",#Jolin Tsai, 41 songs\n",
        "                  \"https://open.spotify.com/playlist/37i9dQZF1DX6zRkWFtwV7e?si=858c7f6c3ee3411d\",#Hebe Tien, 43 songs\n",
        "                  \"https://open.spotify.com/playlist/37i9dQZF1DZ06evO4rpCJq?si=f8ef0d6c0b114c75\",#Desers Chang, 26 songs\n",
        "                  \"https://open.spotify.com/playlist/37i9dQZF1DX1X2EBPaMHbR?si=2bb1203f1b804055\",#Lala Hsu, 40 songs\n",
        "                  \"https://open.spotify.com/playlist/37i9dQZF1DZ06evO3RBGU0?si=53521648918e4c89\",#Accuse Five, 43 songs\n",
        "                  \"https://open.spotify.com/playlist/37i9dQZF1DWUEzhP7uKViP?si=6e2a4b0675f64d36\",#A-mei, 61 songs\n",
        "                  \"https://open.spotify.com/playlist/37i9dQZF1DXdCFr8d8AdIG?si=40281daff198401c\",#Tanya Chua, 41 songs\n",
        "                  \"https://open.spotify.com/playlist/37i9dQZF1DWWF3tJMTORMq?si=e798230c9af647e9\",#Power Station, 51 songs\n",
        "                  \"https://open.spotify.com/playlist/37i9dQZF1DX92Z0nRvikjz?si=845aa36c78764a6f\",#Mayday, 61 songs\n",
        "                  \"https://open.spotify.com/playlist/37i9dQZF1DZ06evO0bocGL?si=71e5ea4ab58b4a42\",#Penny Tai, 50 songs\n",
        "                  \"https://open.spotify.com/playlist/37i9dQZF1DZ06evO3NlrY2?si=364629071ad54ca8\",#Rene Liu, 50 songs\n",
        "                  \"https://open.spotify.com/playlist/37i9dQZF1DX7zXqDWRZPD1?si=530305d9fe2e40df\",#Hit songs in 1990s, 50 songs\n",
        "                  \"https://open.spotify.com/playlist/37i9dQZF1DX9wQi513xJU5?si=95c693562dc64b89\",#Fish Leong, 61 songs\n",
        "                  \"https://open.spotify.com/playlist/37i9dQZF1DXdIrfUYWoPlG?si=06d1f946f83546b6\",#Crowd Lu, 41 songs\n",
        "                  \"https://open.spotify.com/playlist/37i9dQZF1DX2WThMh1h6wg?si=d9444f7b4167496e\",#Weibird, 40 songs\n",
        "                  \"https://open.spotify.com/playlist/37i9dQZF1DWVGQ3JeznhcJ?si=bbe9aa290c814abe\",#Angela Chang, 41 songs\n",
        "                  \"https://open.spotify.com/playlist/37i9dQZF1DX5XJAdiJ2VIR?si=7c030ae3c7f54a0c\",#Cyndi Wang, 40 songs\n",
        "                  \"https://open.spotify.com/playlist/37i9dQZF1DXbDNlU6Ew5d9?si=3ff630260e444d76\"]#Yoga Lin, 41 songs"
      ],
      "metadata": {
        "id": "tOzDq5y9LCjk"
      },
      "execution_count": null,
      "outputs": []
    },
    {
      "cell_type": "code",
      "source": [
        "musixmatch_api_key = 'your api key'"
      ],
      "metadata": {
        "id": "56MVlKbAT39n"
      },
      "execution_count": null,
      "outputs": []
    },
    {
      "cell_type": "code",
      "source": [
        "# Create the dataset\n",
        "with open('TW_lyrics.csv', mode='w', newline='', encoding='utf-8') as file:\n",
        "    writer = csv.writer(file)\n",
        "    writer.writerow(header)\n",
        "\n",
        "    # Process each playlist\n",
        "    for playlist_link in playlist_links:\n",
        "        playlist_URI = playlist_link.split(\"/\")[-1].split(\"?\")[0]\n",
        "        for track in sp.playlist_tracks(playlist_URI)[\"items\"]:\n",
        "            process_track(writer, track[\"track\"], musixmatch_api_key)"
      ],
      "metadata": {
        "id": "aY_2hWdMQXRK"
      },
      "execution_count": null,
      "outputs": []
    }
  ]
}